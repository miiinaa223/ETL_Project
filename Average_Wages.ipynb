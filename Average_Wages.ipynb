{
 "cells": [
  {
   "cell_type": "code",
   "execution_count": 1,
   "metadata": {},
   "outputs": [],
   "source": [
    "import pandas as pd\n",
    "from sqlalchemy import create_engine"
   ]
  },
  {
   "cell_type": "code",
   "execution_count": 2,
   "metadata": {},
   "outputs": [
    {
     "data": {
      "text/html": [
       "<div>\n",
       "<style scoped>\n",
       "    .dataframe tbody tr th:only-of-type {\n",
       "        vertical-align: middle;\n",
       "    }\n",
       "\n",
       "    .dataframe tbody tr th {\n",
       "        vertical-align: top;\n",
       "    }\n",
       "\n",
       "    .dataframe thead th {\n",
       "        text-align: right;\n",
       "    }\n",
       "</style>\n",
       "<table border=\"1\" class=\"dataframe\">\n",
       "  <thead>\n",
       "    <tr style=\"text-align: right;\">\n",
       "      <th></th>\n",
       "      <th>LOCATION</th>\n",
       "      <th>INDICATOR</th>\n",
       "      <th>SUBJECT</th>\n",
       "      <th>MEASURE</th>\n",
       "      <th>FREQUENCY</th>\n",
       "      <th>TIME</th>\n",
       "      <th>Value</th>\n",
       "      <th>Flag Codes</th>\n",
       "    </tr>\n",
       "  </thead>\n",
       "  <tbody>\n",
       "    <tr>\n",
       "      <th>0</th>\n",
       "      <td>AUS</td>\n",
       "      <td>AVWAGE</td>\n",
       "      <td>TOT</td>\n",
       "      <td>USD</td>\n",
       "      <td>A</td>\n",
       "      <td>1990</td>\n",
       "      <td>39073</td>\n",
       "      <td>NaN</td>\n",
       "    </tr>\n",
       "    <tr>\n",
       "      <th>1</th>\n",
       "      <td>AUS</td>\n",
       "      <td>AVWAGE</td>\n",
       "      <td>TOT</td>\n",
       "      <td>USD</td>\n",
       "      <td>A</td>\n",
       "      <td>1991</td>\n",
       "      <td>38864</td>\n",
       "      <td>NaN</td>\n",
       "    </tr>\n",
       "    <tr>\n",
       "      <th>2</th>\n",
       "      <td>AUS</td>\n",
       "      <td>AVWAGE</td>\n",
       "      <td>TOT</td>\n",
       "      <td>USD</td>\n",
       "      <td>A</td>\n",
       "      <td>1992</td>\n",
       "      <td>39626</td>\n",
       "      <td>NaN</td>\n",
       "    </tr>\n",
       "    <tr>\n",
       "      <th>3</th>\n",
       "      <td>AUS</td>\n",
       "      <td>AVWAGE</td>\n",
       "      <td>TOT</td>\n",
       "      <td>USD</td>\n",
       "      <td>A</td>\n",
       "      <td>1993</td>\n",
       "      <td>40003</td>\n",
       "      <td>NaN</td>\n",
       "    </tr>\n",
       "    <tr>\n",
       "      <th>4</th>\n",
       "      <td>AUS</td>\n",
       "      <td>AVWAGE</td>\n",
       "      <td>TOT</td>\n",
       "      <td>USD</td>\n",
       "      <td>A</td>\n",
       "      <td>1994</td>\n",
       "      <td>40295</td>\n",
       "      <td>NaN</td>\n",
       "    </tr>\n",
       "  </tbody>\n",
       "</table>\n",
       "</div>"
      ],
      "text/plain": [
       "  LOCATION INDICATOR SUBJECT MEASURE FREQUENCY  TIME  Value  Flag Codes\n",
       "0      AUS    AVWAGE     TOT     USD         A  1990  39073         NaN\n",
       "1      AUS    AVWAGE     TOT     USD         A  1991  38864         NaN\n",
       "2      AUS    AVWAGE     TOT     USD         A  1992  39626         NaN\n",
       "3      AUS    AVWAGE     TOT     USD         A  1993  40003         NaN\n",
       "4      AUS    AVWAGE     TOT     USD         A  1994  40295         NaN"
      ]
     },
     "execution_count": 2,
     "metadata": {},
     "output_type": "execute_result"
    }
   ],
   "source": [
    "csv_file = \"../ETL_Project/average_wages.csv\"\n",
    "avg_wages_df = pd.read_table(csv_file,sep=',')\n",
    "avg_wages_df.head()"
   ]
  },
  {
   "cell_type": "code",
   "execution_count": 3,
   "metadata": {
    "scrolled": true
   },
   "outputs": [
    {
     "data": {
      "text/html": [
       "<div>\n",
       "<style scoped>\n",
       "    .dataframe tbody tr th:only-of-type {\n",
       "        vertical-align: middle;\n",
       "    }\n",
       "\n",
       "    .dataframe tbody tr th {\n",
       "        vertical-align: top;\n",
       "    }\n",
       "\n",
       "    .dataframe thead th {\n",
       "        text-align: right;\n",
       "    }\n",
       "</style>\n",
       "<table border=\"1\" class=\"dataframe\">\n",
       "  <thead>\n",
       "    <tr style=\"text-align: right;\">\n",
       "      <th></th>\n",
       "      <th>LOCATION</th>\n",
       "      <th>MEASURE</th>\n",
       "      <th>TIME</th>\n",
       "      <th>Value</th>\n",
       "    </tr>\n",
       "  </thead>\n",
       "  <tbody>\n",
       "    <tr>\n",
       "      <th>0</th>\n",
       "      <td>AUS</td>\n",
       "      <td>USD</td>\n",
       "      <td>1990</td>\n",
       "      <td>39073</td>\n",
       "    </tr>\n",
       "    <tr>\n",
       "      <th>1</th>\n",
       "      <td>AUS</td>\n",
       "      <td>USD</td>\n",
       "      <td>1991</td>\n",
       "      <td>38864</td>\n",
       "    </tr>\n",
       "    <tr>\n",
       "      <th>2</th>\n",
       "      <td>AUS</td>\n",
       "      <td>USD</td>\n",
       "      <td>1992</td>\n",
       "      <td>39626</td>\n",
       "    </tr>\n",
       "    <tr>\n",
       "      <th>3</th>\n",
       "      <td>AUS</td>\n",
       "      <td>USD</td>\n",
       "      <td>1993</td>\n",
       "      <td>40003</td>\n",
       "    </tr>\n",
       "    <tr>\n",
       "      <th>4</th>\n",
       "      <td>AUS</td>\n",
       "      <td>USD</td>\n",
       "      <td>1994</td>\n",
       "      <td>40295</td>\n",
       "    </tr>\n",
       "  </tbody>\n",
       "</table>\n",
       "</div>"
      ],
      "text/plain": [
       "  LOCATION MEASURE  TIME  Value\n",
       "0      AUS     USD  1990  39073\n",
       "1      AUS     USD  1991  38864\n",
       "2      AUS     USD  1992  39626\n",
       "3      AUS     USD  1993  40003\n",
       "4      AUS     USD  1994  40295"
      ]
     },
     "execution_count": 3,
     "metadata": {},
     "output_type": "execute_result"
    }
   ],
   "source": [
    "avg_wages_drop = avg_wages_df[['LOCATION','MEASURE','TIME','Value']]\n",
    "avg_wages_drop.head()"
   ]
  },
  {
   "cell_type": "code",
   "execution_count": 4,
   "metadata": {
    "scrolled": true
   },
   "outputs": [
    {
     "data": {
      "text/plain": [
       "LOCATION    object\n",
       "MEASURE     object\n",
       "TIME         int64\n",
       "Value        int64\n",
       "dtype: object"
      ]
     },
     "execution_count": 4,
     "metadata": {},
     "output_type": "execute_result"
    }
   ],
   "source": [
    "avg_wages_drop.dtypes"
   ]
  },
  {
   "cell_type": "code",
   "execution_count": 5,
   "metadata": {
    "scrolled": false
   },
   "outputs": [
    {
     "data": {
      "text/plain": [
       "array([1990, 1991, 1992, 1993, 1994, 1995, 1996, 1997, 1998, 1999, 2000,\n",
       "       2001, 2002, 2003, 2004, 2005, 2006, 2007, 2008, 2009, 2010, 2011,\n",
       "       2012, 2013, 2014, 2015, 2016])"
      ]
     },
     "execution_count": 5,
     "metadata": {},
     "output_type": "execute_result"
    }
   ],
   "source": [
    "avg_wages_drop['TIME'].unique()"
   ]
  },
  {
   "cell_type": "code",
   "execution_count": 7,
   "metadata": {
    "scrolled": true
   },
   "outputs": [
    {
     "data": {
      "text/html": [
       "<div>\n",
       "<style scoped>\n",
       "    .dataframe tbody tr th:only-of-type {\n",
       "        vertical-align: middle;\n",
       "    }\n",
       "\n",
       "    .dataframe tbody tr th {\n",
       "        vertical-align: top;\n",
       "    }\n",
       "\n",
       "    .dataframe thead th {\n",
       "        text-align: right;\n",
       "    }\n",
       "</style>\n",
       "<table border=\"1\" class=\"dataframe\">\n",
       "  <thead>\n",
       "    <tr style=\"text-align: right;\">\n",
       "      <th></th>\n",
       "      <th>LOCATION</th>\n",
       "      <th>INDICATOR</th>\n",
       "      <th>SUBJECT</th>\n",
       "      <th>MEASURE</th>\n",
       "      <th>FREQUENCY</th>\n",
       "      <th>TIME</th>\n",
       "      <th>Value</th>\n",
       "      <th>Flag Codes</th>\n",
       "    </tr>\n",
       "  </thead>\n",
       "  <tbody>\n",
       "    <tr>\n",
       "      <th>26</th>\n",
       "      <td>AUS</td>\n",
       "      <td>AVWAGE</td>\n",
       "      <td>TOT</td>\n",
       "      <td>USD</td>\n",
       "      <td>A</td>\n",
       "      <td>2016</td>\n",
       "      <td>52063</td>\n",
       "      <td>NaN</td>\n",
       "    </tr>\n",
       "    <tr>\n",
       "      <th>53</th>\n",
       "      <td>AUT</td>\n",
       "      <td>AVWAGE</td>\n",
       "      <td>TOT</td>\n",
       "      <td>USD</td>\n",
       "      <td>A</td>\n",
       "      <td>2016</td>\n",
       "      <td>48295</td>\n",
       "      <td>NaN</td>\n",
       "    </tr>\n",
       "    <tr>\n",
       "      <th>80</th>\n",
       "      <td>BEL</td>\n",
       "      <td>AVWAGE</td>\n",
       "      <td>TOT</td>\n",
       "      <td>USD</td>\n",
       "      <td>A</td>\n",
       "      <td>2016</td>\n",
       "      <td>49587</td>\n",
       "      <td>NaN</td>\n",
       "    </tr>\n",
       "    <tr>\n",
       "      <th>107</th>\n",
       "      <td>CAN</td>\n",
       "      <td>AVWAGE</td>\n",
       "      <td>TOT</td>\n",
       "      <td>USD</td>\n",
       "      <td>A</td>\n",
       "      <td>2016</td>\n",
       "      <td>48403</td>\n",
       "      <td>NaN</td>\n",
       "    </tr>\n",
       "    <tr>\n",
       "      <th>129</th>\n",
       "      <td>CZE</td>\n",
       "      <td>AVWAGE</td>\n",
       "      <td>TOT</td>\n",
       "      <td>USD</td>\n",
       "      <td>A</td>\n",
       "      <td>2016</td>\n",
       "      <td>23722</td>\n",
       "      <td>NaN</td>\n",
       "    </tr>\n",
       "  </tbody>\n",
       "</table>\n",
       "</div>"
      ],
      "text/plain": [
       "    LOCATION INDICATOR SUBJECT MEASURE FREQUENCY  TIME  Value  Flag Codes\n",
       "26       AUS    AVWAGE     TOT     USD         A  2016  52063         NaN\n",
       "53       AUT    AVWAGE     TOT     USD         A  2016  48295         NaN\n",
       "80       BEL    AVWAGE     TOT     USD         A  2016  49587         NaN\n",
       "107      CAN    AVWAGE     TOT     USD         A  2016  48403         NaN\n",
       "129      CZE    AVWAGE     TOT     USD         A  2016  23722         NaN"
      ]
     },
     "execution_count": 7,
     "metadata": {},
     "output_type": "execute_result"
    }
   ],
   "source": [
    "avg_wages_2016 = avg_wages_df[avg_wages_df['TIME']==2016]\n",
    "avg_wages_2016.head()"
   ]
  },
  {
   "cell_type": "code",
   "execution_count": null,
   "metadata": {},
   "outputs": [],
   "source": []
  }
 ],
 "metadata": {
  "kernelspec": {
   "display_name": "Python 3",
   "language": "python",
   "name": "python3"
  },
  "language_info": {
   "codemirror_mode": {
    "name": "ipython",
    "version": 3
   },
   "file_extension": ".py",
   "mimetype": "text/x-python",
   "name": "python",
   "nbconvert_exporter": "python",
   "pygments_lexer": "ipython3",
   "version": "3.6.8"
  }
 },
 "nbformat": 4,
 "nbformat_minor": 2
}
